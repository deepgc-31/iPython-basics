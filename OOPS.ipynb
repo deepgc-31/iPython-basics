{
 "cells": [
  {
   "cell_type": "code",
   "execution_count": 1,
   "metadata": {},
   "outputs": [],
   "source": [
    "def cal(a:int,b:int):\n",
    "    if operation == \"+\":\n",
    "        return a+b\n",
    "    elif operation == \"-\":\n",
    "        return a-b\n",
    "    else:\n",
    "        return a*b"
   ]
  },
  {
   "cell_type": "markdown",
   "metadata": {},
   "source": [
    "# function overloading:-\n",
    "#with one function name we can have multiple functions defined in the same class, keyword arguments is the solution for this one, here overloading is not directly supported "
   ]
  },
  {
   "cell_type": "code",
   "execution_count": 12,
   "metadata": {},
   "outputs": [],
   "source": [
    "def cal(a:str,b:str,operation=\"+\"):  #keyword argument(operation)   \n",
    "    if operation == \"+\":\n",
    "        return a+b\n",
    "    elif operation == \"-\":\n",
    "        return a-b\n",
    "    else:\n",
    "        return a*b"
   ]
  },
  {
   "cell_type": "code",
   "execution_count": 15,
   "metadata": {},
   "outputs": [
    {
     "data": {
      "text/plain": [
       "'52'"
      ]
     },
     "execution_count": 15,
     "metadata": {},
     "output_type": "execute_result"
    }
   ],
   "source": [
    "cal(\"5\",\"2\")"
   ]
  },
  {
   "cell_type": "markdown",
   "metadata": {},
   "source": [
    "# OOPS"
   ]
  },
  {
   "cell_type": "code",
   "execution_count": 20,
   "metadata": {},
   "outputs": [
    {
     "name": "stdout",
     "output_type": "stream",
     "text": [
      "I am __str__method\n",
      "Ankan Gonchu was born in 1994 .\n",
      "26\n"
     ]
    }
   ],
   "source": [
    "class Person:\n",
    "    def __init__(self,name,surname,year_of_birth):\n",
    "        self.name=name\n",
    "        self.surname=surname\n",
    "        self.year_of_birth=year_of_birth\n",
    "        \n",
    "    def age(self,current_year):\n",
    "        return current_year-self.year_of_birth\n",
    "    \n",
    "    def __str__(self):\n",
    "        print(\"I am __str__method\")\n",
    "        return \"%s %s was born in %d .\" %(self.name,self.surname,self.year_of_birth)\n",
    "    \n",
    "ankan=Person(\"Ankan\",\"Gonchu\",1994)\n",
    "print(ankan)\n",
    "print(ankan.age(2020))"
   ]
  },
  {
   "cell_type": "code",
   "execution_count": 24,
   "metadata": {},
   "outputs": [
    {
     "data": {
      "text/plain": [
       "type"
      ]
     },
     "execution_count": 24,
     "metadata": {},
     "output_type": "execute_result"
    }
   ],
   "source": [
    "type(Person)"
   ]
  },
  {
   "cell_type": "code",
   "execution_count": 25,
   "metadata": {},
   "outputs": [
    {
     "name": "stdout",
     "output_type": "stream",
     "text": [
      "1\n",
      "<class '__main__.Student'>\n",
      "True\n",
      "True\n"
     ]
    }
   ],
   "source": [
    "#Person class is predefined class & we are using it in this newly defined class Student\n",
    "#Person class is Parent class\n",
    "#Student class is child class\n",
    "\n",
    "class Student(Person):                     \n",
    "    def __init__(self,student_id,*args):                 #*args- calling argument from parent to child class(inheritance)\n",
    "        super(Student,self).__init__(*args)              #super(student)- Person class\n",
    "        self._student_id=student_id\n",
    "        \n",
    "charlie=Student(1,\"Charlie\",\"Brown\",2004)\n",
    "print(charlie._student_id)\n",
    "print(type(charlie))\n",
    "print(isinstance(charlie,Person))\n",
    "print(isinstance(charlie,object))"
   ]
  },
  {
   "cell_type": "markdown",
   "metadata": {},
   "source": [
    "# Overriding"
   ]
  },
  {
   "cell_type": "code",
   "execution_count": 27,
   "metadata": {},
   "outputs": [],
   "source": [
    "class Student(Person):\n",
    "    def __init__(self,student_id,*args,**kwargs):\n",
    "        super(Student,self).__init__(*args,**kwargs)\n",
    "        self._student_id=student_id    "
   ]
  },
  {
   "cell_type": "code",
   "execution_count": 28,
   "metadata": {},
   "outputs": [
    {
     "data": {
      "text/plain": [
       "type"
      ]
     },
     "execution_count": 28,
     "metadata": {},
     "output_type": "execute_result"
    }
   ],
   "source": [
    "type(Student)"
   ]
  },
  {
   "cell_type": "code",
   "execution_count": null,
   "metadata": {},
   "outputs": [],
   "source": []
  }
 ],
 "metadata": {
  "kernelspec": {
   "display_name": "Python 3",
   "language": "python",
   "name": "python3"
  },
  "language_info": {
   "codemirror_mode": {
    "name": "ipython",
    "version": 3
   },
   "file_extension": ".py",
   "mimetype": "text/x-python",
   "name": "python",
   "nbconvert_exporter": "python",
   "pygments_lexer": "ipython3",
   "version": "3.7.6"
  }
 },
 "nbformat": 4,
 "nbformat_minor": 4
}
